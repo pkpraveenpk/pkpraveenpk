{
 "cells": [
  {
   "cell_type": "markdown",
   "id": "796392b6",
   "metadata": {},
   "source": [
    "## Importing neccessary libraries"
   ]
  },
  {
   "cell_type": "code",
   "execution_count": 1,
   "id": "5dddc324",
   "metadata": {},
   "outputs": [],
   "source": [
    "import spacy\n",
    "from spacy.lang.en import English\n",
    "nlp = spacy.load('en_core_web_sm')\n",
    "\n",
    "from collections import defaultdict\n",
    "import warnings\n",
    "from spacy.matcher import Matcher\n",
    "warnings.simplefilter('ignore')"
   ]
  },
  {
   "cell_type": "markdown",
   "id": "50c37240",
   "metadata": {},
   "source": [
    "## Task1"
   ]
  },
  {
   "cell_type": "code",
   "execution_count": 2,
   "id": "4144a5a2",
   "metadata": {},
   "outputs": [],
   "source": [
    "def bow_rep(string,dictionary={}):\n",
    "    word_freq = defaultdict(int)\n",
    "    for item in string:\n",
    "        if (item not in dictionary):\n",
    "            dictionary[item]=len(dictionary)\n",
    "        word_freq[dictionary[item]]+=1\n",
    "    return dictionary,word_freq\n",
    "            "
   ]
  },
  {
   "cell_type": "code",
   "execution_count": 3,
   "id": "ee8acb9f",
   "metadata": {},
   "outputs": [],
   "source": [
    "docs=\"\"\"Review 1 : The movie is scary and long Review 2 : The movie is not scary and slow Review 3 : The movie is spooky and good\"\"\""
   ]
  },
  {
   "cell_type": "code",
   "execution_count": 4,
   "id": "d6d7b0bc",
   "metadata": {},
   "outputs": [],
   "source": [
    "vector,bow=bow_rep(docs.split(\" \"))"
   ]
  },
  {
   "cell_type": "code",
   "execution_count": 5,
   "id": "47a3b1e0",
   "metadata": {},
   "outputs": [
    {
     "name": "stdout",
     "output_type": "stream",
     "text": [
      "defaultdict(<class 'int'>, {0: 3, 1: 1, 2: 3, 3: 3, 4: 3, 5: 3, 6: 2, 7: 3, 8: 1, 9: 1, 10: 1, 11: 1, 12: 1, 13: 1, 14: 1})\n"
     ]
    }
   ],
   "source": [
    "print(bow)"
   ]
  },
  {
   "cell_type": "code",
   "execution_count": 6,
   "id": "4b8d0369",
   "metadata": {},
   "outputs": [
    {
     "name": "stdout",
     "output_type": "stream",
     "text": [
      "Vector representation :  [-2.33397150e+00 -1.41965806e+00 -3.86148483e-01  1.01093248e-01\n",
      " -8.61576796e-01  2.32755721e-01 -8.60064626e-02  1.04741430e+00\n",
      " -4.91019338e-01 -1.09244633e+00  7.59134293e-01  1.89517602e-01\n",
      "  1.91713095e-01  1.58305705e-01 -1.08671308e+00 -6.53879464e-01\n",
      "  5.81971943e-01 -9.99237180e-01  2.18257487e-01  1.39391565e+00\n",
      " -2.06591439e+00  9.61269021e-01 -1.25658441e+00  9.60441232e-01\n",
      " -1.85959041e-03  2.76692450e-01 -8.20566654e-01  1.40357733e+00\n",
      " -1.24375021e+00  1.11188367e-01 -1.07983267e+00 -4.34237987e-01\n",
      "  5.70938289e-01  5.30591846e-01  6.26297832e-01 -8.45503211e-01\n",
      "  2.19562635e-01  1.32220417e-01  1.75458741e+00 -8.60655427e-01\n",
      " -1.13119602e+00 -6.77361608e-01 -6.01937652e-01  4.75508809e-01\n",
      " -3.47691000e-01 -7.91031420e-01  4.11863923e-02 -1.13426232e+00\n",
      " -5.25394678e-02  3.01985860e-01 -3.50390762e-01  7.90782213e-01\n",
      " -3.99184346e-01 -1.21119142e-01  9.52998042e-01  1.78362799e+00\n",
      "  6.90390587e-01 -6.89360499e-03 -5.20808041e-01  6.35541260e-01\n",
      " -1.03003311e+00 -8.32211196e-01 -9.25212264e-01  7.00831413e-04\n",
      "  1.89437628e-01  9.05895829e-02 -2.69397080e-01  1.56221956e-01\n",
      "  2.91149855e-01  1.14551067e+00  1.15235305e+00  1.06792402e+00\n",
      " -1.15684247e+00  3.33642423e-01  2.75717974e-02  6.55523896e-01\n",
      " -4.09016550e-01 -1.10304415e-01  1.06631428e-01 -9.99189377e-01\n",
      " -4.40003216e-01 -5.09881139e-01 -4.07773316e-01  8.58901620e-01\n",
      " -6.35700285e-01  1.83022201e+00  5.61173797e-01  6.25791669e-01\n",
      " -9.94647264e-01  4.42571849e-01  1.04001284e+00  4.31541443e-01\n",
      "  4.70923394e-01  1.23907983e+00 -3.87761533e-01  8.43477249e-01]\n",
      "\n",
      "Vector representation :  [-1.6137393  -0.3206737  -0.01441553  0.49369347  0.04190588  0.04227234\n",
      "  1.4710436   0.3509355  -1.2322105  -0.8477791   1.3260021   0.6498501\n",
      "  0.01890063  0.63276553 -0.6638338   0.69128156 -0.9283477  -0.5178706\n",
      "  0.7387624  -0.4302113  -1.1451379   0.44229347 -0.31464982 -0.9762094\n",
      "  0.6402957   0.13573597  0.80757797  1.9714192  -0.16035806  0.17651248\n",
      "  0.10320255 -0.1444759   1.4705276   0.23631148 -0.5258924  -1.0780513\n",
      " -0.01134861  0.7991365   1.1796228   0.19366276 -0.46789366  0.7289753\n",
      "  0.16055048 -0.17639047 -0.847002   -1.5348594  -1.2338322   1.8844035\n",
      "  0.54385567 -0.17076388 -0.16721869  0.26040494  0.10594976 -0.5936396\n",
      "  1.0591373  -1.4914895   2.0140116  -0.18245938 -0.06344172 -0.27122322\n",
      " -1.4008893   0.52078766  0.05481353 -0.80202717  1.1673658   0.1376245\n",
      "  0.41264692 -1.0270958   0.3197161  -0.55459434 -0.00984144  0.17101341\n",
      "  1.608185    0.5326739   0.30566117 -0.59419286 -0.25434738 -0.35834074\n",
      " -0.310103   -0.9182464  -0.4043086  -0.21922997 -0.5066596   0.04473209\n",
      " -0.06002603  1.3899858   0.31145364 -0.32851037 -0.51152295 -0.84378695\n",
      " -0.88342834 -1.1027566   2.7007105  -0.19275048  0.31926972  1.5301766 ]\n",
      "\n",
      "Bag of words representation :  scary :  2 Review :  3\n"
     ]
    }
   ],
   "source": [
    "print('Vector representation : ',nlp('scary').vector)\n",
    "print()\n",
    "print('Vector representation : ',nlp('Review').vector)\n",
    "\n",
    "print()\n",
    "print('Bag of words representation : ','scary : ',bow[vector['scary']],'Review : ',bow[vector['Review']])"
   ]
  },
  {
   "cell_type": "markdown",
   "id": "b23d0b5b",
   "metadata": {},
   "source": [
    "## Task2"
   ]
  },
  {
   "cell_type": "code",
   "execution_count": 7,
   "id": "4ad85bd9",
   "metadata": {},
   "outputs": [
    {
     "name": "stdout",
     "output_type": "stream",
     "text": [
      "hey siri\n",
      "hey,siri\n"
     ]
    }
   ],
   "source": [
    "from spacy.matcher import PhraseMatcher\n",
    "\n",
    "matcher=PhraseMatcher(nlp.vocab)\n",
    "patterns=[nlp(\"hey siri\"),nlp(\"hey,siri\")]\n",
    "matcher.add(\"HeySiri\",patterns)\n",
    "doc=nlp(\"hey siri ! hey,siri !\")\n",
    "matches=matcher(doc)\n",
    "\n",
    "for match_id,start,end in matches:\n",
    "    string_id = nlp.vocab.strings[match_id]\n",
    "    span = doc[start:end]\n",
    "    print(span.text)\n"
   ]
  },
  {
   "cell_type": "markdown",
   "id": "42c39999",
   "metadata": {},
   "source": [
    "## Task3"
   ]
  },
  {
   "cell_type": "code",
   "execution_count": 8,
   "id": "a6e89fbb",
   "metadata": {},
   "outputs": [],
   "source": [
    "nlp = spacy.load('en_core_web_lg')"
   ]
  },
  {
   "cell_type": "code",
   "execution_count": 9,
   "id": "a45d74da",
   "metadata": {},
   "outputs": [
    {
     "name": "stdout",
     "output_type": "stream",
     "text": [
      "Text = apple Vector = True OOV= False\n",
      "Text = orange Vector = True OOV= False\n",
      "Text = pikkstn Vector = False OOV= True\n",
      "Text = german Vector = True OOV= False\n"
     ]
    }
   ],
   "source": [
    "doc = nlp(\"apple orange pikkstn german\")\n",
    "for token in doc:\n",
    "    print ('Text =',token.text,'Vector =',token.has_vector,'OOV=',token.is_oov)"
   ]
  },
  {
   "cell_type": "markdown",
   "id": "b671abc9",
   "metadata": {},
   "source": [
    "## Task4"
   ]
  },
  {
   "cell_type": "code",
   "execution_count": 10,
   "id": "f5b57533",
   "metadata": {},
   "outputs": [
    {
     "name": "stdout",
     "output_type": "stream",
     "text": [
      "rotten mangoes\n",
      "sweet oranges\n"
     ]
    }
   ],
   "source": [
    "matcher=PhraseMatcher(nlp.vocab,attr = \"LOWER\")\n",
    "terms=[\"ROTTEN mangoes\",'sweet oranges']\n",
    "patterns=[nlp.make_doc(text) for text in terms] \n",
    "\n",
    "matcher.add(\"Name\", patterns)\n",
    "doc=nlp(\"Do not put rotten mangoes and sweet oranges together\")\n",
    "matches=matcher(doc)\n",
    "for match_id,start,end in matches:                                                  \n",
    "    span = doc[start:end]\n",
    "    print(span.text)                                                                  "
   ]
  },
  {
   "cell_type": "markdown",
   "id": "3a49a58e",
   "metadata": {},
   "source": [
    "## Task5"
   ]
  },
  {
   "cell_type": "code",
   "execution_count": 11,
   "id": "46c8236d",
   "metadata": {
    "scrolled": true
   },
   "outputs": [
    {
     "name": "stdout",
     "output_type": "stream",
     "text": [
      "Vector representation :  [-1.5618702   0.33298138 -0.28782135 -0.04463702  0.03425273 -0.22102006\n",
      " -0.26836428  3.4925644  -1.7662841   2.9789102   4.838906    1.6060085\n",
      " -4.1769457   1.09471     1.39424     1.0902113   1.9275044  -2.1597416\n",
      " -0.49510428 -1.8027357   1.79591    -0.9164767   0.5383084  -1.6798986\n",
      " -0.7614314  -1.56728    -4.0350575  -1.6457201  -0.7997055   2.154607\n",
      "  0.23571718 -0.40566376 -0.9044986  -2.8243144   0.5082163  -2.0844543\n",
      " -1.2533884   1.4365178   3.118757    0.7231744  -0.38110143  0.52569085\n",
      " -0.01411456 -1.51185     0.64657336  0.8548942   0.05926273 -1.7744342\n",
      " -0.28953144  0.2539771   0.68159723  1.9004143  -0.7385672  -3.5072157\n",
      " -1.2587115  -0.4212      0.27146858  0.8695342   0.8318457   2.0645144\n",
      "  1.4933358  -2.0611598  -1.3238658   0.3149751  -0.57807904  0.5528657\n",
      " -2.7894442  -1.9905783   0.5507044   4.091463   -0.598771    0.49130568\n",
      " -0.32522437 -0.52540106  2.4888859   2.1305285  -2.9369156  -0.2253\n",
      " -3.6066139  -3.2169685  -3.2862704   0.3467143   2.3857002  -0.3445514\n",
      "  2.466573    0.5915928  -0.88634413 -1.4446629   0.22344841 -1.6883385\n",
      " -0.26768857  1.5435642   2.1773686  -3.2968514   0.83267576 -1.3533086\n",
      "  1.7498329  -2.1537728   1.8373944   1.5197729   1.2564      1.2167728\n",
      "  2.0599215   1.7044042  -0.80238444  2.724594   -1.3660613  -0.70966566\n",
      " -1.0576842  -2.2964814   0.52867144 -2.134853   -0.5377458  -1.9559\n",
      "  1.1464846   0.6983083   0.8567336  -1.2938157   0.9946826  -0.22007571\n",
      " -1.8536757  -2.404534   -1.0151142   3.5777142  -1.2859014  -1.07088\n",
      "  3.01928    -2.6975372   2.479957   -1.4293414  -3.186077    1.4735085\n",
      "  2.5591114  -1.2196757  -0.7751528   1.1198782  -1.72161    -1.192763\n",
      "  4.17351    -2.039107   -2.6343086  -1.01642    -0.03872999  0.38548723\n",
      " -0.6351786   1.558543   -2.8334916  -0.81011474 -0.09189282 -0.3901543\n",
      " -1.4676256  -0.25351143 -0.9446487  -1.76142    -0.19836283  0.5246486\n",
      "  3.2374158   0.01461997 -0.98449147 -0.9585966  -1.6844256  -3.9803672\n",
      " -1.4816514   1.5987586  -1.6329957   0.5391414  -2.9702656   0.7446972\n",
      " -1.2680786   1.8991905   0.05054865  0.5384801  -0.04918175  0.96682423\n",
      "  2.7541358  -0.73792857 -1.2544727  -1.58315    -0.8094401  -0.6362366\n",
      " -1.8308628   0.46562287  2.665687    0.54663426 -1.2557362   2.970853\n",
      " -1.3572171  -2.395428    1.6480986   1.2306767  -0.70342577  0.32381138\n",
      " -2.1828144  -1.1866329   0.37253565 -0.77599716 -4.110116   -0.19617577\n",
      " -1.7282425   3.2366257  -2.28557    -1.7199444  -0.9477971  -2.547897\n",
      "  1.7585714   0.6639171  -0.2765314   0.08453432 -0.5357214   0.5013498\n",
      "  1.729554    0.5172643  -0.6308257   1.6982428  -1.1198187   1.667207\n",
      "  0.22926031 -1.4755286  -1.2907416  -1.2299799  -2.8391545   1.3189901\n",
      " -1.8529056   1.1716664   0.06529423 -2.6291301   0.12540145  2.725143\n",
      "  0.8501229   1.1205885  -0.12804294 -4.2070026   0.87369996  0.3453599\n",
      "  0.5373829   1.4657658  -3.0508926   2.6440232  -0.9514615  -2.0536087\n",
      " -2.8742769  -0.69716686  0.45146155 -1.4192358   1.5094229   1.2214172\n",
      " -1.4407272  -0.9202843   1.86897     1.6547414   0.0257929  -1.4301586\n",
      " -6.537414   -0.01600044 -0.78362    -3.2887142   0.6399      0.26541573\n",
      " -0.39468145  1.8747652   1.9753101   5.81567     1.8922342   3.0057714\n",
      "  2.6367226  -2.342074   -0.02334277  1.1202005  -4.297839    0.5322643\n",
      "  0.13541372 -0.05266866 -2.0893254  -0.80730003 -0.47675    -1.3940601\n",
      "  0.50969714 -3.8436456  -0.38086572  0.8716081  -1.56517    -0.3871572\n",
      "  1.9784071  -0.08360427  1.7644186  -0.12525715 -0.9822001   0.8340143\n",
      " -1.1697758  -0.8597144   2.0357656  -0.32418284  0.8104609   0.19915141\n",
      " -2.4666772   1.1470743   1.8926287  -0.86096144 -3.5169444   1.1536798 ]\n",
      "\n",
      "Vector size :  (300,)\n"
     ]
    }
   ],
   "source": [
    "txt='I prefer the morning flight through denmark'\n",
    "print('Vector representation : ',nlp(txt).vector)\n",
    "print()\n",
    "print('Vector size : ',nlp(txt).vector.shape)"
   ]
  },
  {
   "cell_type": "markdown",
   "id": "c3ba6678",
   "metadata": {},
   "source": [
    "## Task6"
   ]
  },
  {
   "cell_type": "code",
   "execution_count": 12,
   "id": "b72c4d17",
   "metadata": {},
   "outputs": [
    {
     "name": "stdout",
     "output_type": "stream",
     "text": [
      "Text = rotten Vector = True OOV= False\n",
      "Text = sweet Vector = True OOV= False\n",
      "\n",
      "mangoes mangoes 1.0\n",
      "mangoes oranges 0.6179827451705933\n",
      "mangoes sweet 0.526822566986084\n",
      "\n",
      "oranges mangoes 0.6179827451705933\n",
      "oranges oranges 1.0\n",
      "oranges sweet 0.4205557107925415\n",
      "\n",
      "sweet mangoes 0.526822566986084\n",
      "sweet oranges 0.4205557107925415\n",
      "sweet sweet 1.0\n",
      "\n"
     ]
    }
   ],
   "source": [
    "doc = nlp(\"rotten sweet\")\n",
    "for token in doc:\n",
    "    print ('Text =',token.text,'Vector =',token.has_vector,'OOV=',token.is_oov)\n",
    "print()\n",
    "doc = nlp(\"mangoes oranges sweet\")\n",
    "i=0\n",
    "for token1 in doc:\n",
    "    for token2 in doc:\n",
    "        print(token1.text,token2.text,token1.similarity(token2)) \n",
    "    print()"
   ]
  },
  {
   "cell_type": "markdown",
   "id": "6b57d5f1",
   "metadata": {},
   "source": [
    "## Interpretation:\n",
    "1)1st statement is false they are in Vocabulary\n",
    "\n",
    "2)mangoes oranges 0.725576639175415\n",
    "\n",
    "3)sweet oranges 0.4652591049671173"
   ]
  }
 ],
 "metadata": {
  "kernelspec": {
   "display_name": "Python 3 (ipykernel)",
   "language": "python",
   "name": "python3"
  },
  "language_info": {
   "codemirror_mode": {
    "name": "ipython",
    "version": 3
   },
   "file_extension": ".py",
   "mimetype": "text/x-python",
   "name": "python",
   "nbconvert_exporter": "python",
   "pygments_lexer": "ipython3",
   "version": "3.9.13"
  }
 },
 "nbformat": 4,
 "nbformat_minor": 5
}
