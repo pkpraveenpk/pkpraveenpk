{
 "cells": [
  {
   "cell_type": "markdown",
   "id": "773e6777",
   "metadata": {},
   "source": [
    "## Importing neccessary modules"
   ]
  },
  {
   "cell_type": "code",
   "execution_count": 1,
   "id": "053a8e02",
   "metadata": {},
   "outputs": [],
   "source": [
    "import re\n",
    "import spacy"
   ]
  },
  {
   "cell_type": "code",
   "execution_count": 2,
   "id": "e3045b02",
   "metadata": {},
   "outputs": [],
   "source": [
    "raw1=open(r\"K:\\Desktop\\NIIT\\tables\\DS3_C2_S2_TravelReview_Data_Challenge.csv\").read()"
   ]
  },
  {
   "cell_type": "code",
   "execution_count": 3,
   "id": "d5e728bb",
   "metadata": {},
   "outputs": [],
   "source": [
    "raw1=raw1[:1500]"
   ]
  },
  {
   "cell_type": "code",
   "execution_count": 4,
   "id": "abe4f4fc",
   "metadata": {},
   "outputs": [],
   "source": [
    "pattern =  r\"[^a-zA-Z0-9\\s]+|\\t|\\n\"\n",
    "raws = re.sub(pattern, \"\", raw1)"
   ]
  },
  {
   "cell_type": "code",
   "execution_count": 5,
   "id": "efd48dc9",
   "metadata": {},
   "outputs": [],
   "source": [
    "raw1=''.join(filter(lambda item : (not item.isdigit()),raws))"
   ]
  },
  {
   "cell_type": "code",
   "execution_count": 6,
   "id": "a8d3d046",
   "metadata": {},
   "outputs": [],
   "source": [
    "nlp = spacy.load('en_core_web_sm', disable=['tagger', 'parser', 'ner',\"lemmatizer\"])"
   ]
  },
  {
   "cell_type": "code",
   "execution_count": 7,
   "id": "4fb28ac2",
   "metadata": {},
   "outputs": [],
   "source": [
    "tokens=nlp(raw1)"
   ]
  },
  {
   "cell_type": "code",
   "execution_count": 8,
   "id": "fc7f9f22",
   "metadata": {},
   "outputs": [],
   "source": [
    "from collections import Counter"
   ]
  },
  {
   "cell_type": "code",
   "execution_count": 9,
   "id": "c58dfdaf",
   "metadata": {},
   "outputs": [],
   "source": [
    "counter=Counter()\n",
    "\n",
    "for token in tokens:\n",
    "    counter[token.orth_]+=1"
   ]
  },
  {
   "cell_type": "code",
   "execution_count": 10,
   "id": "4f6cbfef",
   "metadata": {},
   "outputs": [],
   "source": [
    "most_common=counter.most_common(10)"
   ]
  },
  {
   "cell_type": "markdown",
   "id": "7dd6566a",
   "metadata": {},
   "source": [
    "## Task4"
   ]
  },
  {
   "cell_type": "code",
   "execution_count": 11,
   "id": "4389b90a",
   "metadata": {
    "scrolled": true
   },
   "outputs": [
    {
     "data": {
      "text/plain": [
       "[('guide', 5),\n",
       " ('get', 5),\n",
       " ('take', 4),\n",
       " ('good', 3),\n",
       " ('best', 3),\n",
       " ('amazon', 3),\n",
       " ('ewr', 3),\n",
       " ('cruises', 2),\n",
       " ('looking', 2),\n",
       " ('caribbean', 2)]"
      ]
     },
     "execution_count": 11,
     "metadata": {},
     "output_type": "execute_result"
    }
   ],
   "source": [
    "most_common"
   ]
  },
  {
   "cell_type": "markdown",
   "id": "c1ef71e7",
   "metadata": {},
   "source": [
    "## Task5"
   ]
  },
  {
   "cell_type": "code",
   "execution_count": 12,
   "id": "8da381d5",
   "metadata": {},
   "outputs": [
    {
     "name": "stdout",
     "output_type": "stream",
     "text": [
      "Count of Travellers, Tourists :  1 1\n"
     ]
    }
   ],
   "source": [
    "print(\"Count of Travellers, Tourists : \",counter['travellers'],counter['tourists'])"
   ]
  }
 ],
 "metadata": {
  "kernelspec": {
   "display_name": "Python 3 (ipykernel)",
   "language": "python",
   "name": "python3"
  },
  "language_info": {
   "codemirror_mode": {
    "name": "ipython",
    "version": 3
   },
   "file_extension": ".py",
   "mimetype": "text/x-python",
   "name": "python",
   "nbconvert_exporter": "python",
   "pygments_lexer": "ipython3",
   "version": "3.9.15"
  }
 },
 "nbformat": 4,
 "nbformat_minor": 5
}
