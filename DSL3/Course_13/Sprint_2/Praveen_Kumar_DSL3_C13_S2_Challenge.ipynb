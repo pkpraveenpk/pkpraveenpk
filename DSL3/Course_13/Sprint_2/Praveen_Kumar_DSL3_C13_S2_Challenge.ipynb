{
 "cells": [
  {
   "cell_type": "markdown",
   "id": "e3562130",
   "metadata": {},
   "source": [
    "## Importing neccessary modules"
   ]
  },
  {
   "cell_type": "code",
   "execution_count": 1,
   "id": "3129da4c",
   "metadata": {},
   "outputs": [],
   "source": [
    "import pandas as pd\n",
    "import re\n",
    "from time import time\n",
    "import string\n",
    "import json\n",
    "import numpy as np\n",
    "from sklearn.preprocessing import Binarizer\n",
    "from sklearn.preprocessing import MultiLabelBinarizer\n",
    "\n",
    "from nltk.corpus import stopwords\n",
    "from sklearn.linear_model import LogisticRegression\n",
    "from sklearn.feature_extraction.text import TfidfVectorizer\n",
    "from sklearn.multiclass import OneVsRestClassifier\n",
    "from sklearn.model_selection import train_test_split\n",
    "from sklearn.metrics import precision_score,recall_score,f1_score,accuracy_score,confusion_matrix,classification_report\n",
    "import warnings\n",
    "warnings.filterwarnings('ignore')"
   ]
  },
  {
   "cell_type": "markdown",
   "id": "f863ef05",
   "metadata": {},
   "source": [
    "## Task1"
   ]
  },
  {
   "cell_type": "code",
   "execution_count": 2,
   "id": "ce466306",
   "metadata": {},
   "outputs": [
    {
     "data": {
      "text/plain": [
       "textID              0\n",
       "text                0\n",
       "selected_text       0\n",
       "sentiment           0\n",
       "Time of Tweet       0\n",
       "Age of User         0\n",
       "Country             0\n",
       "Population -2020    0\n",
       "Land Area (Km�)     0\n",
       "Density (P/Km�)     0\n",
       "dtype: int64"
      ]
     },
     "execution_count": 2,
     "metadata": {},
     "output_type": "execute_result"
    }
   ],
   "source": [
    "train=pd.read_csv(r\"K:\\Desktop\\NIIT\\Challenge\\Course_13\\DS3_C3_S2_TweetTrain_Data_Challenge.csv\")\n",
    "test=pd.read_csv(r\"K:\\Desktop\\NIIT\\Challenge\\Course_13\\DS3_C3_S2_TweetTest_Data_Challenge.csv\")\n",
    "\n",
    "train.text.fillna(train.text.mode()[0],inplace=True)\n",
    "train.selected_text.fillna(train.selected_text.mode()[0],inplace=True)\n",
    "train.isnull().sum()"
   ]
  },
  {
   "cell_type": "code",
   "execution_count": 3,
   "id": "1e6722fd",
   "metadata": {},
   "outputs": [
    {
     "data": {
      "text/plain": [
       "textID              0\n",
       "text                0\n",
       "sentiment           0\n",
       "Time of Tweet       0\n",
       "Age of User         0\n",
       "Country             0\n",
       "Population -2020    0\n",
       "Land Area (Km�)     0\n",
       "Density (P/Km�)     0\n",
       "dtype: int64"
      ]
     },
     "execution_count": 3,
     "metadata": {},
     "output_type": "execute_result"
    }
   ],
   "source": [
    "test.isnull().sum()"
   ]
  },
  {
   "cell_type": "markdown",
   "id": "de4762b8",
   "metadata": {},
   "source": [
    "## Task2"
   ]
  },
  {
   "cell_type": "code",
   "execution_count": 4,
   "id": "f33acff0",
   "metadata": {},
   "outputs": [],
   "source": [
    "stopwords_set = set(stopwords.words('english'))\n",
    "\n",
    "def preprocess_df(df, column_name, stopwords_set):\n",
    "    new_df = df.copy()  # create a copy of the original DataFrame\n",
    "    new_df[column_name] = new_df[column_name].apply(lambda x: x.lower())  # convert text to lowercase\n",
    "    new_df[column_name] = new_df[column_name].apply(lambda x: re.sub(r'[^\\w\\s]', '', x))  # remove punctuations\n",
    "    new_df[column_name] = new_df[column_name].apply(lambda x: \" \".join([word.lower() for word in re.findall(r'\\w+', x) if word.lower() not in stopwords_set]))  # remove stop words\n",
    "    return new_df\n",
    "\n",
    "train_clean=preprocess_df(train,'text',stopwords_set)\n",
    "test_clean=preprocess_df(test,'text',stopwords_set)"
   ]
  },
  {
   "cell_type": "markdown",
   "id": "fdb72247",
   "metadata": {},
   "source": [
    "## Task3"
   ]
  },
  {
   "cell_type": "code",
   "execution_count": 5,
   "id": "b098e50e",
   "metadata": {},
   "outputs": [],
   "source": [
    "vectorizer=TfidfVectorizer(stop_words=stopwords.words('english'))\n",
    "trainvec=vectorizer.fit_transform(train_clean.text)\n",
    "testvec=vectorizer.transform(test_clean.text)"
   ]
  },
  {
   "cell_type": "code",
   "execution_count": 6,
   "id": "15b5eedf",
   "metadata": {},
   "outputs": [],
   "source": [
    "model=LogisticRegression(max_iter=10)\n",
    "classifier=OneVsRestClassifier(model)\n",
    "classifier.fit(trainvec,train.sentiment)\n",
    "ypred=classifier.predict(testvec)"
   ]
  },
  {
   "cell_type": "markdown",
   "id": "a1252ff2",
   "metadata": {},
   "source": [
    "## Task4"
   ]
  },
  {
   "cell_type": "code",
   "execution_count": 7,
   "id": "c1835a15",
   "metadata": {},
   "outputs": [],
   "source": [
    "matrix=confusion_matrix(ypred,test.sentiment)\n",
    "report=classification_report(test.sentiment, ypred)\n",
    "table=pd.DataFrame({'Ypred':ypred,'Ytest':test.sentiment})"
   ]
  },
  {
   "cell_type": "code",
   "execution_count": 8,
   "id": "cce33cb2",
   "metadata": {
    "scrolled": false
   },
   "outputs": [
    {
     "name": "stdout",
     "output_type": "stream",
     "text": [
      "Classification report\n",
      "              precision    recall  f1-score   support\n",
      "\n",
      "    negative       0.70      0.52      0.59      1001\n",
      "     neutral       0.58      0.78      0.67      1430\n",
      "    positive       0.80      0.64      0.71      1103\n",
      "\n",
      "    accuracy                           0.66      3534\n",
      "   macro avg       0.69      0.65      0.66      3534\n",
      "weighted avg       0.68      0.66      0.66      3534\n",
      "\n",
      "Confusion Matrix\n",
      "\n",
      "[[ 520  180   47]\n",
      " [ 442 1110  347]\n",
      " [  39  140  709]]\n"
     ]
    },
    {
     "data": {
      "text/html": [
       "<div>\n",
       "<style scoped>\n",
       "    .dataframe tbody tr th:only-of-type {\n",
       "        vertical-align: middle;\n",
       "    }\n",
       "\n",
       "    .dataframe tbody tr th {\n",
       "        vertical-align: top;\n",
       "    }\n",
       "\n",
       "    .dataframe thead th {\n",
       "        text-align: right;\n",
       "    }\n",
       "</style>\n",
       "<table border=\"1\" class=\"dataframe\">\n",
       "  <thead>\n",
       "    <tr style=\"text-align: right;\">\n",
       "      <th></th>\n",
       "      <th>Ypred</th>\n",
       "      <th>Ytest</th>\n",
       "    </tr>\n",
       "  </thead>\n",
       "  <tbody>\n",
       "    <tr>\n",
       "      <th>0</th>\n",
       "      <td>neutral</td>\n",
       "      <td>neutral</td>\n",
       "    </tr>\n",
       "    <tr>\n",
       "      <th>1</th>\n",
       "      <td>positive</td>\n",
       "      <td>positive</td>\n",
       "    </tr>\n",
       "    <tr>\n",
       "      <th>2</th>\n",
       "      <td>neutral</td>\n",
       "      <td>negative</td>\n",
       "    </tr>\n",
       "    <tr>\n",
       "      <th>3</th>\n",
       "      <td>positive</td>\n",
       "      <td>positive</td>\n",
       "    </tr>\n",
       "    <tr>\n",
       "      <th>4</th>\n",
       "      <td>negative</td>\n",
       "      <td>positive</td>\n",
       "    </tr>\n",
       "    <tr>\n",
       "      <th>5</th>\n",
       "      <td>positive</td>\n",
       "      <td>positive</td>\n",
       "    </tr>\n",
       "    <tr>\n",
       "      <th>6</th>\n",
       "      <td>neutral</td>\n",
       "      <td>negative</td>\n",
       "    </tr>\n",
       "    <tr>\n",
       "      <th>7</th>\n",
       "      <td>negative</td>\n",
       "      <td>negative</td>\n",
       "    </tr>\n",
       "    <tr>\n",
       "      <th>8</th>\n",
       "      <td>neutral</td>\n",
       "      <td>neutral</td>\n",
       "    </tr>\n",
       "    <tr>\n",
       "      <th>9</th>\n",
       "      <td>neutral</td>\n",
       "      <td>neutral</td>\n",
       "    </tr>\n",
       "    <tr>\n",
       "      <th>10</th>\n",
       "      <td>neutral</td>\n",
       "      <td>negative</td>\n",
       "    </tr>\n",
       "    <tr>\n",
       "      <th>11</th>\n",
       "      <td>neutral</td>\n",
       "      <td>neutral</td>\n",
       "    </tr>\n",
       "    <tr>\n",
       "      <th>12</th>\n",
       "      <td>neutral</td>\n",
       "      <td>neutral</td>\n",
       "    </tr>\n",
       "    <tr>\n",
       "      <th>13</th>\n",
       "      <td>negative</td>\n",
       "      <td>negative</td>\n",
       "    </tr>\n",
       "    <tr>\n",
       "      <th>14</th>\n",
       "      <td>negative</td>\n",
       "      <td>negative</td>\n",
       "    </tr>\n",
       "    <tr>\n",
       "      <th>15</th>\n",
       "      <td>negative</td>\n",
       "      <td>negative</td>\n",
       "    </tr>\n",
       "    <tr>\n",
       "      <th>16</th>\n",
       "      <td>negative</td>\n",
       "      <td>negative</td>\n",
       "    </tr>\n",
       "    <tr>\n",
       "      <th>17</th>\n",
       "      <td>neutral</td>\n",
       "      <td>negative</td>\n",
       "    </tr>\n",
       "    <tr>\n",
       "      <th>18</th>\n",
       "      <td>positive</td>\n",
       "      <td>positive</td>\n",
       "    </tr>\n",
       "    <tr>\n",
       "      <th>19</th>\n",
       "      <td>negative</td>\n",
       "      <td>neutral</td>\n",
       "    </tr>\n",
       "    <tr>\n",
       "      <th>20</th>\n",
       "      <td>negative</td>\n",
       "      <td>negative</td>\n",
       "    </tr>\n",
       "    <tr>\n",
       "      <th>21</th>\n",
       "      <td>neutral</td>\n",
       "      <td>negative</td>\n",
       "    </tr>\n",
       "    <tr>\n",
       "      <th>22</th>\n",
       "      <td>negative</td>\n",
       "      <td>negative</td>\n",
       "    </tr>\n",
       "    <tr>\n",
       "      <th>23</th>\n",
       "      <td>negative</td>\n",
       "      <td>neutral</td>\n",
       "    </tr>\n",
       "    <tr>\n",
       "      <th>24</th>\n",
       "      <td>neutral</td>\n",
       "      <td>negative</td>\n",
       "    </tr>\n",
       "    <tr>\n",
       "      <th>25</th>\n",
       "      <td>positive</td>\n",
       "      <td>positive</td>\n",
       "    </tr>\n",
       "    <tr>\n",
       "      <th>26</th>\n",
       "      <td>negative</td>\n",
       "      <td>neutral</td>\n",
       "    </tr>\n",
       "    <tr>\n",
       "      <th>27</th>\n",
       "      <td>neutral</td>\n",
       "      <td>neutral</td>\n",
       "    </tr>\n",
       "    <tr>\n",
       "      <th>28</th>\n",
       "      <td>neutral</td>\n",
       "      <td>positive</td>\n",
       "    </tr>\n",
       "    <tr>\n",
       "      <th>29</th>\n",
       "      <td>neutral</td>\n",
       "      <td>negative</td>\n",
       "    </tr>\n",
       "  </tbody>\n",
       "</table>\n",
       "</div>"
      ],
      "text/plain": [
       "       Ypred     Ytest\n",
       "0    neutral   neutral\n",
       "1   positive  positive\n",
       "2    neutral  negative\n",
       "3   positive  positive\n",
       "4   negative  positive\n",
       "5   positive  positive\n",
       "6    neutral  negative\n",
       "7   negative  negative\n",
       "8    neutral   neutral\n",
       "9    neutral   neutral\n",
       "10   neutral  negative\n",
       "11   neutral   neutral\n",
       "12   neutral   neutral\n",
       "13  negative  negative\n",
       "14  negative  negative\n",
       "15  negative  negative\n",
       "16  negative  negative\n",
       "17   neutral  negative\n",
       "18  positive  positive\n",
       "19  negative   neutral\n",
       "20  negative  negative\n",
       "21   neutral  negative\n",
       "22  negative  negative\n",
       "23  negative   neutral\n",
       "24   neutral  negative\n",
       "25  positive  positive\n",
       "26  negative   neutral\n",
       "27   neutral   neutral\n",
       "28   neutral  positive\n",
       "29   neutral  negative"
      ]
     },
     "execution_count": 8,
     "metadata": {},
     "output_type": "execute_result"
    }
   ],
   "source": [
    "print('Classification report')\n",
    "print(report)\n",
    "\n",
    "print('Confusion Matrix')\n",
    "\n",
    "print()\n",
    "print(matrix)\n",
    "\n",
    "\n",
    "table[:30]"
   ]
  },
  {
   "cell_type": "markdown",
   "id": "ff681210",
   "metadata": {},
   "source": [
    "## Interpretation:\n",
    "The classification report shows the precision, recall, and F1-score of a multi-class classification model for each class (negative, neutral, positive), as well as the overall accuracy and macro/micro average of the three metrics.\n",
    "\n",
    "In this case, the model's overall accuracy is 0.66, which means that it correctly classified 66% of the instances in the test set. The macro-average F1-score is 0.66, which is the average of the F1-scores of the three classes. The precision, recall, and F1-score for each class show that the model performs better in classifying positive tweets, with the highest precision, recall, and F1-score. The model performs worse in classifying negative tweets, with the lowest precision, recall, and F1-score."
   ]
  }
 ],
 "metadata": {
  "kernelspec": {
   "display_name": "Python 3 (ipykernel)",
   "language": "python",
   "name": "python3"
  },
  "language_info": {
   "codemirror_mode": {
    "name": "ipython",
    "version": 3
   },
   "file_extension": ".py",
   "mimetype": "text/x-python",
   "name": "python",
   "nbconvert_exporter": "python",
   "pygments_lexer": "ipython3",
   "version": "3.9.15"
  }
 },
 "nbformat": 4,
 "nbformat_minor": 5
}
